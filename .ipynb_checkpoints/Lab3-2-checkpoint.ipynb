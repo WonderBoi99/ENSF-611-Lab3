{
 "cells": [
  {
   "cell_type": "markdown",
   "id": "87fee377",
   "metadata": {},
   "source": [
    "# Lab 3 - Part 2: PCA and Clustering (12 marks)\n",
    "### Due Date: Monday, March 13 at 12pm\n",
    "\n",
    "Author: Nikhil Naikar"
   ]
  },
  {
   "cell_type": "markdown",
   "id": "ba7f05d0",
   "metadata": {},
   "source": [
    "The purpose of this portion of the assignment is to practice using PCA and clustering techniques on a given dataset"
   ]
  },
  {
   "cell_type": "code",
   "execution_count": 1,
   "id": "be4299ae",
   "metadata": {},
   "outputs": [],
   "source": [
    "import numpy as np\n",
    "import pandas as pd"
   ]
  },
  {
   "cell_type": "markdown",
   "id": "18a83b6f",
   "metadata": {},
   "source": [
    "## 0. Function definitions (2 marks)"
   ]
  },
  {
   "cell_type": "code",
   "execution_count": 20,
   "id": "13d602f2",
   "metadata": {},
   "outputs": [],
   "source": [
    "from sklearn.cluster import KMeans\n",
    "from sklearn.decomposition import PCA\n",
    "from sklearn.metrics import silhouette_score\n",
    "\n",
    "def cluster_fn(X, n_clusters, n_components=0):\n",
    "    '''Calculate silhouette score for a given dataset, number of clusters, \n",
    "       and number of principle components using Kmeans clustering (random_state=0)\n",
    "        \n",
    "        n_clusters (int): number of clusters to use for Kmeans\n",
    "        n_components (int): number of principle components (optional)\n",
    "        X (numpy.array or pandas.DataFrame): unlabelled dataset\n",
    "        \n",
    "        returns: silhouette score\n",
    "    \n",
    "    '''\n",
    "    # TODO: Implement function body\n",
    "    if n_components != 0:\n",
    "        pca_model = PCA(n_components=n_components)\n",
    "        X = pca_model.fit_transform(X)\n",
    "    kmeans_model = KMeans(n_clusters = n_clusters, random_state=47)\n",
    "    temp = kmeans_model.fit(X)\n",
    "    avg_score = silhouette_score(X, temp.labels_) \n",
    "    \n",
    "    return avg_score"
   ]
  },
  {
   "cell_type": "markdown",
   "id": "fe7cfa4f",
   "metadata": {},
   "source": [
    "## 1. Load data (2 marks)\n",
    "\n",
    "For this assignment, we will use the dataset found below:\n",
    "\n",
    "https://archive.ics.uci.edu/ml/datasets/Chemical+Composition+of+Ceramic+Samples"
   ]
  },
  {
   "cell_type": "code",
   "execution_count": 8,
   "id": "474481f1",
   "metadata": {},
   "outputs": [
    {
     "name": "stdout",
     "output_type": "stream",
     "text": [
      "  Ceramic Name  Part  Na2O   MgO  Al2O3   SiO2   K2O   CaO  TiO2  Fe2O3  MnO  \\\n",
      "0      FLQ-1-b  Body  0.62  0.38  19.61  71.99  4.84  0.31  0.07   1.18  630   \n",
      "1      FLQ-2-b  Body  0.57  0.47  21.19  70.09  4.98  0.49  0.09   1.12  380   \n",
      "2      FLQ-3-b  Body  0.49  0.19  18.60  74.70  3.47  0.43  0.06   1.07  420   \n",
      "3      FLQ-4-b  Body  0.89  0.30  18.01  74.19  4.01  0.27  0.09   1.23  460   \n",
      "4      FLQ-5-b  Body  0.03  0.36  18.41  73.99  4.33  0.65  0.05   1.19  380   \n",
      "\n",
      "   CuO  ZnO  PbO2  Rb2O  SrO  Y2O3  ZrO2  P2O5  \n",
      "0   10   70    10   430    0    40    80    90  \n",
      "1   20   80    40   430  -10    40   100   110  \n",
      "2   20   50    50   380   40    40    80   200  \n",
      "3   20   70    60   380   10    40    70   210  \n",
      "4   40   90    40   360   10    30    80   150  \n",
      "(88, 19)\n"
     ]
    }
   ],
   "source": [
    "# TODO: Import dataset\n",
    "data = pd.read_csv('Chemical Composion of Ceramic.csv')\n",
    "print(data.head())\n",
    "print(data.shape)"
   ]
  },
  {
   "cell_type": "markdown",
   "id": "f908b657",
   "metadata": {},
   "source": [
    "Two of the columns are non-numeric. For this assignment, we will remove those two columns and focus on clustering the ceramic samples based on the numerical measurements"
   ]
  },
  {
   "cell_type": "code",
   "execution_count": 9,
   "id": "e2efda0e",
   "metadata": {},
   "outputs": [
    {
     "name": "stdout",
     "output_type": "stream",
     "text": [
      "   Na2O   MgO  Al2O3   SiO2   K2O   CaO  TiO2  Fe2O3  MnO  CuO  ZnO  PbO2  \\\n",
      "0  0.62  0.38  19.61  71.99  4.84  0.31  0.07   1.18  630   10   70    10   \n",
      "1  0.57  0.47  21.19  70.09  4.98  0.49  0.09   1.12  380   20   80    40   \n",
      "2  0.49  0.19  18.60  74.70  3.47  0.43  0.06   1.07  420   20   50    50   \n",
      "3  0.89  0.30  18.01  74.19  4.01  0.27  0.09   1.23  460   20   70    60   \n",
      "4  0.03  0.36  18.41  73.99  4.33  0.65  0.05   1.19  380   40   90    40   \n",
      "\n",
      "   Rb2O  SrO  Y2O3  ZrO2  P2O5  \n",
      "0   430    0    40    80    90  \n",
      "1   430  -10    40   100   110  \n",
      "2   380   40    40    80   200  \n",
      "3   380   10    40    70   210  \n",
      "4   360   10    30    80   150  \n",
      "(88, 17)\n"
     ]
    }
   ],
   "source": [
    "# TODO: Remove non-numeric columns\n",
    "temp = data.select_dtypes(exclude='number')\n",
    "data = data.drop(temp, axis=1)\n",
    "print(data.head())\n",
    "print(data.shape)"
   ]
  },
  {
   "cell_type": "markdown",
   "id": "3bf578b1",
   "metadata": {},
   "source": [
    "## 2. Implement clustering (8 marks)"
   ]
  },
  {
   "cell_type": "markdown",
   "id": "980c62e1",
   "metadata": {},
   "source": [
    "### 2.1 Cluster using raw data (1 mark)\n",
    "\n",
    "Implement Kmeans clustering using the raw data. Compare the silhouette scores using 2, 3, 4, 5 and 6 clusters"
   ]
  },
  {
   "cell_type": "code",
   "execution_count": 35,
   "id": "5f85da0b",
   "metadata": {},
   "outputs": [
    {
     "name": "stdout",
     "output_type": "stream",
     "text": [
      "Silhouette score for 2 clusters = 0.58\n",
      "Silhouette score for 3 clusters = 0.56\n",
      "Silhouette score for 4 clusters = 0.54\n",
      "Silhouette score for 5 clusters = 0.51\n",
      "Silhouette score for 6 clusters = 0.49\n"
     ]
    }
   ],
   "source": [
    "# TODO: Implement clustering with raw data using cluster_fn above\n",
    "results = []\n",
    "num_clusters = [2,3,4,5,6]\n",
    "for num in num_clusters: \n",
    "    results.append([num, cluster_fn(data,num,0)])\n",
    "    print('Silhouette score for', num, 'clusters = {:.2f}'.format(cluster_fn(data,num,0)))"
   ]
  },
  {
   "cell_type": "markdown",
   "id": "48df428e",
   "metadata": {},
   "source": [
    "### 2.2 Cluster using PCA-transformed data (2 marks)\n",
    "\n",
    "Implement Kmeans clustering using the PCA-transformed data. Compare the silhouette scores using 2, 3, 4, 5 and 6 clusters and 2, 3, 4, 5 and 6 principle components "
   ]
  },
  {
   "cell_type": "code",
   "execution_count": 39,
   "id": "de0a5d80",
   "metadata": {},
   "outputs": [
    {
     "name": "stdout",
     "output_type": "stream",
     "text": [
      "Silhouette score for 2 clusters with:\n",
      "2 principle components = 0.62\n",
      "3 principle components = 0.60\n",
      "4 principle components = 0.59\n",
      "5 principle components = 0.59\n",
      "6 principle components = 0.59\n",
      "Silhouette score for 3 clusters with:\n",
      "2 principle components = 0.61\n",
      "3 principle components = 0.59\n",
      "4 principle components = 0.57\n",
      "5 principle components = 0.57\n",
      "6 principle components = 0.57\n",
      "Silhouette score for 4 clusters with:\n",
      "2 principle components = 0.60\n",
      "3 principle components = 0.57\n",
      "4 principle components = 0.55\n",
      "5 principle components = 0.55\n",
      "6 principle components = 0.55\n",
      "Silhouette score for 5 clusters with:\n",
      "2 principle components = 0.57\n",
      "3 principle components = 0.55\n",
      "4 principle components = 0.52\n",
      "5 principle components = 0.51\n",
      "6 principle components = 0.51\n",
      "Silhouette score for 6 clusters with:\n",
      "2 principle components = 0.58\n",
      "3 principle components = 0.54\n",
      "4 principle components = 0.53\n",
      "5 principle components = 0.52\n",
      "6 principle components = 0.50\n"
     ]
    }
   ],
   "source": [
    "# TODO: Implement clustering with PCA-transformed data using cluster_fn above\n",
    "num_clusters = [2,3,4,5,6]\n",
    "num_principles = [2,3,4,5,6]\n",
    "result_PCA = []\n",
    "for num in num_clusters:\n",
    "    print('Silhouette score for', num, 'clusters with:')\n",
    "    for n in num_principles:\n",
    "        result_PCA.append([num, n, cluster_fn(data,num,n)])\n",
    "        print(n, 'principle components = {:.2f}'.format(cluster_fn(data,num,n)))"
   ]
  },
  {
   "cell_type": "markdown",
   "id": "50eb5219",
   "metadata": {},
   "source": [
    "### 2.3 Display results (2 marks)\n",
    "\n",
    "Print the results for 2.1 and 2.2 in a table. Include column and row labels"
   ]
  },
  {
   "cell_type": "code",
   "execution_count": 51,
   "id": "9ae81ac6",
   "metadata": {
    "scrolled": false
   },
   "outputs": [
    {
     "name": "stdout",
     "output_type": "stream",
     "text": [
      "                 silhouette score\n",
      "num_of_clusters                  \n",
      "2                        0.584013\n",
      "3                        0.562567\n",
      "4                        0.543411\n",
      "5                        0.506608\n",
      "6                        0.489695\n",
      "                 num_of_principle_components  silhouette score\n",
      "num_of_clusters                                               \n",
      "2                                          2          0.619442\n",
      "2                                          3          0.599961\n",
      "2                                          4          0.589955\n",
      "2                                          5          0.587472\n",
      "2                                          6          0.585963\n",
      "3                                          2          0.611625\n",
      "3                                          3          0.586609\n",
      "3                                          4          0.571447\n",
      "3                                          5          0.567714\n",
      "3                                          6          0.565490\n",
      "4                                          2          0.600752\n",
      "4                                          3          0.570531\n",
      "4                                          4          0.553715\n",
      "4                                          5          0.549286\n",
      "4                                          6          0.546752\n",
      "5                                          2          0.570688\n",
      "5                                          3          0.545911\n",
      "5                                          4          0.521348\n",
      "5                                          5          0.514401\n",
      "5                                          6          0.511119\n",
      "6                                          2          0.577099\n",
      "6                                          3          0.537959\n",
      "6                                          4          0.529829\n",
      "6                                          5          0.524216\n",
      "6                                          6          0.495137\n"
     ]
    }
   ],
   "source": [
    "# TODO: Display results\n",
    "df = pd.DataFrame(results, columns = ['num_of_clusters', 'silhouette score'])\n",
    "df.set_index('num_of_clusters', inplace=True)\n",
    "df_PCA = pd.DataFrame(result_PCA, columns = ['num_of_clusters', 'num_of_principle_components', 'silhouette score'])\n",
    "df_PCA.set_index('num_of_clusters', inplace=True)\n",
    "print(df)\n",
    "print(df_PCA)"
   ]
  },
  {
   "cell_type": "markdown",
   "id": "e1086de9",
   "metadata": {},
   "source": [
    "**Question**: Which combination of number of clusters and number of components produced the best results? What is the silhouette score for this combination? **(3 marks)**\n",
    "\n",
    "2 clusters and 2 principle components combination produce the best results which is a score of 0.62. <br>"
   ]
  },
  {
   "cell_type": "markdown",
   "id": "6e64bf4a",
   "metadata": {},
   "source": [
    "## 3. Improve results (Bonus - 3 marks)\n",
    "\n",
    "Think about how you could improve the results from the previous section. Two potential methods include preprocessing the data or selecting a different clustering algorithm. Repeat section 2 with your selected improvement method to determine what the new silhouette scores would be"
   ]
  },
  {
   "cell_type": "code",
   "execution_count": null,
   "id": "3a8a9432",
   "metadata": {},
   "outputs": [],
   "source": [
    "# TODO: Repeat steps 2.1-2.3 using a different method/preprocessing/etc."
   ]
  },
  {
   "cell_type": "markdown",
   "id": "ae4193d4",
   "metadata": {},
   "source": [
    "**Question**: Why did you select this improvement method? Which combination of number of clusters and number of components produced the best results? Did you improve the silhouette scores? If yes, how much of an improvement did you get over the previous results?\n",
    "\n",
    "*ANSWER HERE*"
   ]
  },
  {
   "cell_type": "code",
   "execution_count": null,
   "id": "05128594",
   "metadata": {},
   "outputs": [],
   "source": []
  }
 ],
 "metadata": {
  "kernelspec": {
   "display_name": "Python 3 (ipykernel)",
   "language": "python",
   "name": "python3"
  },
  "language_info": {
   "codemirror_mode": {
    "name": "ipython",
    "version": 3
   },
   "file_extension": ".py",
   "mimetype": "text/x-python",
   "name": "python",
   "nbconvert_exporter": "python",
   "pygments_lexer": "ipython3",
   "version": "3.9.13"
  }
 },
 "nbformat": 4,
 "nbformat_minor": 5
}
